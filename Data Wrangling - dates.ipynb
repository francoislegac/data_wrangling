{
 "cells": [
  {
   "cell_type": "code",
   "execution_count": 2,
   "metadata": {},
   "outputs": [],
   "source": [
    "import pandas as pd"
   ]
  },
  {
   "cell_type": "markdown",
   "metadata": {},
   "source": [
    "## Working with dates\n",
    "\n",
    "Need to master the followings :\n",
    "\n",
    "- work with different formats and timezones (know how to translate from a format to another and from a tz to another) \n",
    "- filter dates on specific year / hours etc...\n",
    "- operations with the dates (& with business operations)\n",
    "\n",
    "source = https://pandas.pydata.org/docs/user_guide/timeseries.html"
   ]
  },
  {
   "cell_type": "code",
   "execution_count": 9,
   "metadata": {},
   "outputs": [
    {
     "data": {
      "text/plain": [
       "2021-01-31     0\n",
       "2021-02-28     1\n",
       "2021-03-31     2\n",
       "2021-04-30     3\n",
       "2021-05-31     4\n",
       "2021-06-30     5\n",
       "2021-07-31     6\n",
       "2021-08-31     7\n",
       "2021-09-30     8\n",
       "2021-10-31     9\n",
       "2021-11-30    10\n",
       "2021-12-31    11\n",
       "Freq: M, dtype: int64"
      ]
     },
     "execution_count": 9,
     "metadata": {},
     "output_type": "execute_result"
    }
   ],
   "source": [
    "#create a df for the year 2021 with the month in index\n",
    "pd.Series(range(12), index = pd.date_range('2021', periods=12, freq='M'))"
   ]
  },
  {
   "cell_type": "code",
   "execution_count": 10,
   "metadata": {},
   "outputs": [
    {
     "data": {
      "text/plain": [
       "DatetimeIndex(['2021-01-31', '2021-04-30', '2021-07-31', '2021-10-31',\n",
       "               '2022-01-31', '2022-04-30', '2022-07-31', '2022-10-31',\n",
       "               '2023-01-31', '2023-04-30', '2023-07-31', '2023-10-31'],\n",
       "              dtype='datetime64[ns]', freq='3M')"
      ]
     },
     "execution_count": 10,
     "metadata": {},
     "output_type": "execute_result"
    }
   ],
   "source": [
    "#Note that you can specify different frequencies e.g\n",
    "pd.date_range('2021', periods=12, freq='3M')"
   ]
  },
  {
   "cell_type": "code",
   "execution_count": 11,
   "metadata": {},
   "outputs": [
    {
     "data": {
      "text/plain": [
       "'Wednesday'"
      ]
     },
     "execution_count": 11,
     "metadata": {},
     "output_type": "execute_result"
    }
   ],
   "source": [
    "d = pd.to_datetime('2021-03-31')\n",
    "d.day_name()"
   ]
  },
  {
   "cell_type": "code",
   "execution_count": 12,
   "metadata": {},
   "outputs": [
    {
     "data": {
      "text/plain": [
       "Timestamp('2021-03-31 00:00:00')"
      ]
     },
     "execution_count": 12,
     "metadata": {},
     "output_type": "execute_result"
    }
   ],
   "source": [
    "d"
   ]
  },
  {
   "cell_type": "code",
   "execution_count": 13,
   "metadata": {},
   "outputs": [
    {
     "data": {
      "text/plain": [
       "datetime.datetime(2010, 12, 5, 0, 0)"
      ]
     },
     "execution_count": 13,
     "metadata": {},
     "output_type": "execute_result"
    }
   ],
   "source": [
    "#Creating a Timestamp\n",
    "ts = pd.Timestamp('2010-12-05')\n",
    "\n",
    "#or\n",
    "import datetime\n",
    "ts = datetime.datetime(2010,12,5)\n",
    "ts"
   ]
  },
  {
   "cell_type": "code",
   "execution_count": 14,
   "metadata": {},
   "outputs": [
    {
     "data": {
      "text/plain": [
       "Timestamp('2018-01-18 00:00:00-0800', tz='US/Pacific')"
      ]
     },
     "execution_count": 14,
     "metadata": {},
     "output_type": "execute_result"
    }
   ],
   "source": [
    "#Note that you can specify the timezone\n",
    "pd.Timestamp('2018-01-18', tz= 'US/Pacific')"
   ]
  },
  {
   "cell_type": "code",
   "execution_count": 15,
   "metadata": {},
   "outputs": [
    {
     "name": "stdout",
     "output_type": "stream",
     "text": [
      "US/Pacific\n",
      "None\n"
     ]
    }
   ],
   "source": [
    "#you can access and get ride of it\n",
    "ts = pd.Timestamp('2018-01-18', tz= 'US/Pacific')\n",
    "print(ts.tz)\n",
    "ts_bis = ts.tz_localize(None)\n",
    "print(ts_bis.tz)"
   ]
  },
  {
   "cell_type": "code",
   "execution_count": 16,
   "metadata": {},
   "outputs": [
    {
     "data": {
      "text/plain": [
       "list"
      ]
     },
     "execution_count": 16,
     "metadata": {},
     "output_type": "execute_result"
    }
   ],
   "source": [
    "#creating a DatetimeIndex (a list of timestamps)\n",
    "di = [pd.Timestamp('2010-12-05'),\n",
    "pd.Timestamp('2010-12-06'),\n",
    "pd.Timestamp('2010-12-07')]\n",
    "type(di)"
   ]
  },
  {
   "cell_type": "code",
   "execution_count": 17,
   "metadata": {},
   "outputs": [
    {
     "data": {
      "text/plain": [
       "DatetimeIndex(['2015-12-01', '2012-11-28'], dtype='datetime64[ns]', freq=None)"
      ]
     },
     "execution_count": 17,
     "metadata": {},
     "output_type": "execute_result"
    }
   ],
   "source": [
    "#creating an array of datetime e.g. a Datetimeindex\n",
    "pd.to_datetime(['01/12/2015', '28/11/2012'], dayfirst=True)"
   ]
  },
  {
   "cell_type": "code",
   "execution_count": 18,
   "metadata": {},
   "outputs": [
    {
     "data": {
      "text/plain": [
       "0   2010-12-05\n",
       "1   2010-12-06\n",
       "2   2010-12-07\n",
       "dtype: datetime64[ns]"
      ]
     },
     "execution_count": 18,
     "metadata": {},
     "output_type": "execute_result"
    }
   ],
   "source": [
    "pd.Series(di)"
   ]
  },
  {
   "cell_type": "code",
   "execution_count": 19,
   "metadata": {},
   "outputs": [],
   "source": [
    "#Quick exercice\n",
    "s = pd.Series(pd.date_range('2021', periods=12, freq='M'))\n",
    "df = pd.DataFrame({'dates': s, 'day_name' : s.dt.day_name()})"
   ]
  },
  {
   "cell_type": "markdown",
   "metadata": {},
   "source": [
    "pandas.Series.dt => Accessor object for datetimelike properties of the Series values.\n",
    "https://pandas.pydata.org/pandas-docs/stable/reference/api/pandas.Series.dt.html\n",
    "\n",
    "Attributes: year, month, tzinfo, etc..."
   ]
  },
  {
   "cell_type": "code",
   "execution_count": 20,
   "metadata": {},
   "outputs": [],
   "source": [
    "tmp = pd.DataFrame({'year': s.dt.year, 'day': s.dt.day})\n",
    "df = pd.concat([df, tmp], axis=1)"
   ]
  },
  {
   "cell_type": "code",
   "execution_count": 21,
   "metadata": {},
   "outputs": [
    {
     "data": {
      "text/html": [
       "<div>\n",
       "<style scoped>\n",
       "    .dataframe tbody tr th:only-of-type {\n",
       "        vertical-align: middle;\n",
       "    }\n",
       "\n",
       "    .dataframe tbody tr th {\n",
       "        vertical-align: top;\n",
       "    }\n",
       "\n",
       "    .dataframe thead th {\n",
       "        text-align: right;\n",
       "    }\n",
       "</style>\n",
       "<table border=\"1\" class=\"dataframe\">\n",
       "  <thead>\n",
       "    <tr style=\"text-align: right;\">\n",
       "      <th></th>\n",
       "      <th>dates</th>\n",
       "      <th>day_name</th>\n",
       "      <th>year</th>\n",
       "      <th>day</th>\n",
       "    </tr>\n",
       "  </thead>\n",
       "  <tbody>\n",
       "    <tr>\n",
       "      <th>0</th>\n",
       "      <td>2021-01-31</td>\n",
       "      <td>Sunday</td>\n",
       "      <td>2021</td>\n",
       "      <td>31</td>\n",
       "    </tr>\n",
       "    <tr>\n",
       "      <th>1</th>\n",
       "      <td>2021-02-28</td>\n",
       "      <td>Sunday</td>\n",
       "      <td>2021</td>\n",
       "      <td>28</td>\n",
       "    </tr>\n",
       "    <tr>\n",
       "      <th>2</th>\n",
       "      <td>2021-03-31</td>\n",
       "      <td>Wednesday</td>\n",
       "      <td>2021</td>\n",
       "      <td>31</td>\n",
       "    </tr>\n",
       "    <tr>\n",
       "      <th>3</th>\n",
       "      <td>2021-04-30</td>\n",
       "      <td>Friday</td>\n",
       "      <td>2021</td>\n",
       "      <td>30</td>\n",
       "    </tr>\n",
       "    <tr>\n",
       "      <th>4</th>\n",
       "      <td>2021-05-31</td>\n",
       "      <td>Monday</td>\n",
       "      <td>2021</td>\n",
       "      <td>31</td>\n",
       "    </tr>\n",
       "    <tr>\n",
       "      <th>5</th>\n",
       "      <td>2021-06-30</td>\n",
       "      <td>Wednesday</td>\n",
       "      <td>2021</td>\n",
       "      <td>30</td>\n",
       "    </tr>\n",
       "    <tr>\n",
       "      <th>6</th>\n",
       "      <td>2021-07-31</td>\n",
       "      <td>Saturday</td>\n",
       "      <td>2021</td>\n",
       "      <td>31</td>\n",
       "    </tr>\n",
       "    <tr>\n",
       "      <th>7</th>\n",
       "      <td>2021-08-31</td>\n",
       "      <td>Tuesday</td>\n",
       "      <td>2021</td>\n",
       "      <td>31</td>\n",
       "    </tr>\n",
       "    <tr>\n",
       "      <th>8</th>\n",
       "      <td>2021-09-30</td>\n",
       "      <td>Thursday</td>\n",
       "      <td>2021</td>\n",
       "      <td>30</td>\n",
       "    </tr>\n",
       "    <tr>\n",
       "      <th>9</th>\n",
       "      <td>2021-10-31</td>\n",
       "      <td>Sunday</td>\n",
       "      <td>2021</td>\n",
       "      <td>31</td>\n",
       "    </tr>\n",
       "    <tr>\n",
       "      <th>10</th>\n",
       "      <td>2021-11-30</td>\n",
       "      <td>Tuesday</td>\n",
       "      <td>2021</td>\n",
       "      <td>30</td>\n",
       "    </tr>\n",
       "    <tr>\n",
       "      <th>11</th>\n",
       "      <td>2021-12-31</td>\n",
       "      <td>Friday</td>\n",
       "      <td>2021</td>\n",
       "      <td>31</td>\n",
       "    </tr>\n",
       "  </tbody>\n",
       "</table>\n",
       "</div>"
      ],
      "text/plain": [
       "        dates   day_name  year  day\n",
       "0  2021-01-31     Sunday  2021   31\n",
       "1  2021-02-28     Sunday  2021   28\n",
       "2  2021-03-31  Wednesday  2021   31\n",
       "3  2021-04-30     Friday  2021   30\n",
       "4  2021-05-31     Monday  2021   31\n",
       "5  2021-06-30  Wednesday  2021   30\n",
       "6  2021-07-31   Saturday  2021   31\n",
       "7  2021-08-31    Tuesday  2021   31\n",
       "8  2021-09-30   Thursday  2021   30\n",
       "9  2021-10-31     Sunday  2021   31\n",
       "10 2021-11-30    Tuesday  2021   30\n",
       "11 2021-12-31     Friday  2021   31"
      ]
     },
     "execution_count": 21,
     "metadata": {},
     "output_type": "execute_result"
    }
   ],
   "source": [
    "df"
   ]
  },
  {
   "cell_type": "code",
   "execution_count": 22,
   "metadata": {},
   "outputs": [],
   "source": [
    "#get the decade \n",
    "def decade(y):\n",
    "    return str(y)[2] + '0'\n",
    "\n",
    "df['decade'] = df['year'].apply(decade)"
   ]
  },
  {
   "cell_type": "code",
   "execution_count": 23,
   "metadata": {},
   "outputs": [
    {
     "data": {
      "text/html": [
       "<div>\n",
       "<style scoped>\n",
       "    .dataframe tbody tr th:only-of-type {\n",
       "        vertical-align: middle;\n",
       "    }\n",
       "\n",
       "    .dataframe tbody tr th {\n",
       "        vertical-align: top;\n",
       "    }\n",
       "\n",
       "    .dataframe thead th {\n",
       "        text-align: right;\n",
       "    }\n",
       "</style>\n",
       "<table border=\"1\" class=\"dataframe\">\n",
       "  <thead>\n",
       "    <tr style=\"text-align: right;\">\n",
       "      <th></th>\n",
       "      <th>dates</th>\n",
       "      <th>day_name</th>\n",
       "      <th>year</th>\n",
       "      <th>day</th>\n",
       "      <th>decade</th>\n",
       "    </tr>\n",
       "  </thead>\n",
       "  <tbody>\n",
       "    <tr>\n",
       "      <th>0</th>\n",
       "      <td>2021-01-31</td>\n",
       "      <td>Sunday</td>\n",
       "      <td>2021</td>\n",
       "      <td>31</td>\n",
       "      <td>20</td>\n",
       "    </tr>\n",
       "    <tr>\n",
       "      <th>1</th>\n",
       "      <td>2021-02-28</td>\n",
       "      <td>Sunday</td>\n",
       "      <td>2021</td>\n",
       "      <td>28</td>\n",
       "      <td>20</td>\n",
       "    </tr>\n",
       "    <tr>\n",
       "      <th>2</th>\n",
       "      <td>2021-03-31</td>\n",
       "      <td>Wednesday</td>\n",
       "      <td>2021</td>\n",
       "      <td>31</td>\n",
       "      <td>20</td>\n",
       "    </tr>\n",
       "  </tbody>\n",
       "</table>\n",
       "</div>"
      ],
      "text/plain": [
       "       dates   day_name  year  day decade\n",
       "0 2021-01-31     Sunday  2021   31     20\n",
       "1 2021-02-28     Sunday  2021   28     20\n",
       "2 2021-03-31  Wednesday  2021   31     20"
      ]
     },
     "execution_count": 23,
     "metadata": {},
     "output_type": "execute_result"
    }
   ],
   "source": [
    "df.head(n=3)"
   ]
  },
  {
   "cell_type": "code",
   "execution_count": 24,
   "metadata": {},
   "outputs": [],
   "source": [
    "#periods\n",
    "#trimestre = quarters\n",
    "df['quarters'] = df['dates'].dt.to_period(freq='Q')"
   ]
  },
  {
   "cell_type": "markdown",
   "metadata": {},
   "source": [
    "Exo w3resource : https://www.w3resource.com/python-exercises/pandas/time-series/index.php\n",
    "\n",
    "1) \n",
    "\n",
    "- a) Datetime object for Jan 15 2012.\n",
    "- b) Specific date and time of 9:20 pm.\n",
    "- c) Local date and time.\n",
    "- d) A date without time.\n",
    "- e) Current date.\n",
    "- f) Time from a datetime.\n",
    "- g) Current local time."
   ]
  },
  {
   "cell_type": "code",
   "execution_count": 25,
   "metadata": {
    "scrolled": true
   },
   "outputs": [
    {
     "name": "stdout",
     "output_type": "stream",
     "text": [
      "2012-01-15 00:00:00\n",
      "2012-01-15 21:20:00\n",
      "2021-03-11 17:41:09.135514\n",
      "2021-03-11 00:00:00\n",
      "2012-01-15\n",
      "2021-03-11\n",
      "21:20:00\n"
     ]
    }
   ],
   "source": [
    "print(pd.Timestamp('2012-01-15'))\n",
    "print(pd.Timestamp('2012-01-15 21:20:00'))\n",
    "print(pd.to_datetime('today')) \n",
    "#Note a question but can be useful \n",
    "print(pd.to_datetime('today').normalize())\n",
    "print(pd.Timestamp('2012-01-15 21:20:00').date()) #no need for the .dt, already a datetime / timestamp\n",
    "print(pd.to_datetime('today').date())\n",
    "print(pd.Timestamp('2012-01-15 21:20:00').time())"
   ]
  },
  {
   "cell_type": "code",
   "execution_count": 26,
   "metadata": {},
   "outputs": [
    {
     "data": {
      "text/plain": [
       "datetime.datetime(2021, 3, 11, 17, 41, 9, 149426)"
      ]
     },
     "execution_count": 26,
     "metadata": {},
     "output_type": "execute_result"
    }
   ],
   "source": [
    "#Note that you can do the same with datetime\n",
    "import datetime\n",
    "datetime.datetime.now()"
   ]
  },
  {
   "cell_type": "markdown",
   "metadata": {},
   "source": [
    "2)  Write a Pandas program to print the day after and before a specified date. Also print the days between two given dates"
   ]
  },
  {
   "cell_type": "code",
   "execution_count": 27,
   "metadata": {},
   "outputs": [
    {
     "name": "stdout",
     "output_type": "stream",
     "text": [
      "today 2021-03-11\n",
      "tomorrow 2021-03-12\n",
      "yesterday 2021-03-10\n"
     ]
    },
    {
     "data": {
      "text/plain": [
       "0    2012-01-15\n",
       "1    2012-01-16\n",
       "2    2012-01-17\n",
       "3    2012-01-18\n",
       "4    2012-01-19\n",
       "5    2012-01-20\n",
       "6    2012-01-21\n",
       "7    2012-01-22\n",
       "8    2012-01-23\n",
       "9    2012-01-24\n",
       "10   2012-01-25\n",
       "dtype: datetime64[ns]"
      ]
     },
     "execution_count": 27,
     "metadata": {},
     "output_type": "execute_result"
    }
   ],
   "source": [
    "today = pd.to_datetime('today')\n",
    "print(f'today {today.date()}')\n",
    "tomorrow = today + pd.Timedelta(days=1)\n",
    "print(f'tomorrow {tomorrow.date()}')\n",
    "yesterday = today - pd.Timedelta(days=1)\n",
    "print(f'yesterday {yesterday.date()}')\n",
    "\n",
    "#daterange\n",
    "date1 = pd.Timestamp('2012-01-15')\n",
    "date2 = pd.Timestamp('2012-01-25')\n",
    "pd.Series(pd.date_range(date1, date2, freq='D'))"
   ]
  },
  {
   "cell_type": "markdown",
   "metadata": {},
   "source": [
    "Write a Pandas program to create a time-series with two index labels and random values. Also print the type of the index"
   ]
  },
  {
   "cell_type": "code",
   "execution_count": 28,
   "metadata": {},
   "outputs": [
    {
     "data": {
      "text/html": [
       "<div>\n",
       "<style scoped>\n",
       "    .dataframe tbody tr th:only-of-type {\n",
       "        vertical-align: middle;\n",
       "    }\n",
       "\n",
       "    .dataframe tbody tr th {\n",
       "        vertical-align: top;\n",
       "    }\n",
       "\n",
       "    .dataframe thead th {\n",
       "        text-align: right;\n",
       "    }\n",
       "</style>\n",
       "<table border=\"1\" class=\"dataframe\">\n",
       "  <thead>\n",
       "    <tr style=\"text-align: right;\">\n",
       "      <th></th>\n",
       "      <th>x</th>\n",
       "      <th>type</th>\n",
       "    </tr>\n",
       "  </thead>\n",
       "  <tbody>\n",
       "    <tr>\n",
       "      <th>2012-01-01</th>\n",
       "      <td>0</td>\n",
       "      <td>datetime64[ns]</td>\n",
       "    </tr>\n",
       "    <tr>\n",
       "      <th>2012-01-02</th>\n",
       "      <td>9</td>\n",
       "      <td>datetime64[ns]</td>\n",
       "    </tr>\n",
       "    <tr>\n",
       "      <th>2012-01-03</th>\n",
       "      <td>0</td>\n",
       "      <td>datetime64[ns]</td>\n",
       "    </tr>\n",
       "    <tr>\n",
       "      <th>2012-01-04</th>\n",
       "      <td>2</td>\n",
       "      <td>datetime64[ns]</td>\n",
       "    </tr>\n",
       "    <tr>\n",
       "      <th>2012-01-05</th>\n",
       "      <td>4</td>\n",
       "      <td>datetime64[ns]</td>\n",
       "    </tr>\n",
       "  </tbody>\n",
       "</table>\n",
       "</div>"
      ],
      "text/plain": [
       "            x            type\n",
       "2012-01-01  0  datetime64[ns]\n",
       "2012-01-02  9  datetime64[ns]\n",
       "2012-01-03  0  datetime64[ns]\n",
       "2012-01-04  2  datetime64[ns]\n",
       "2012-01-05  4  datetime64[ns]"
      ]
     },
     "execution_count": 28,
     "metadata": {},
     "output_type": "execute_result"
    }
   ],
   "source": [
    "idx = pd.date_range('2012-01-01', periods=20, freq='D')\n",
    "df = pd.DataFrame({'x':np.random.randint(0,10,20), 'type': idx.dtype}, index=idx)\n",
    "df.head()"
   ]
  },
  {
   "cell_type": "markdown",
   "metadata": {},
   "source": [
    "Write a Pandas program to check if a day is a business day (weekday) or not."
   ]
  },
  {
   "cell_type": "code",
   "execution_count": 29,
   "metadata": {},
   "outputs": [
    {
     "data": {
      "text/plain": [
       "DatetimeIndex(['2018-01-01', '2018-01-02', '2018-01-03', '2018-01-04',\n",
       "               '2018-01-05', '2018-01-08'],\n",
       "              dtype='datetime64[ns]', freq='B')"
      ]
     },
     "execution_count": 29,
     "metadata": {},
     "output_type": "execute_result"
    }
   ],
   "source": [
    "#First look at pd.bdate_range() does : it gives you a DatatimeIndex of all the business days bewteen 2 dates! \n",
    "# e.g.\n",
    "#Note how the two weekend days are skipped in the result.\n",
    "pd.bdate_range(start='1/1/2018', end='1/08/2018') #ALSO be careful at the english notation %m/%d/%y"
   ]
  },
  {
   "cell_type": "code",
   "execution_count": 30,
   "metadata": {},
   "outputs": [],
   "source": [
    "#let's get back to our problem\n",
    "def isBusinessDay(date):\n",
    "    return bool(len(pd.bdate_range(date,date)))"
   ]
  },
  {
   "cell_type": "code",
   "execution_count": 31,
   "metadata": {},
   "outputs": [
    {
     "name": "stdout",
     "output_type": "stream",
     "text": [
      "True\n",
      "False\n"
     ]
    }
   ],
   "source": [
    "#check\n",
    "print(isBusinessDay('2018-01-01'))\n",
    "print(isBusinessDay('2018-01-06'))"
   ]
  },
  {
   "cell_type": "markdown",
   "metadata": {},
   "source": [
    "Note : bool() python function\n",
    "\n",
    "The bool() function returns the boolean value of a specified object.\n",
    "\n",
    "The object will always return True, unless:\n",
    "\n",
    "- The object is empty, like [], (), {}\n",
    "- The object is False\n",
    "- The object is 0\n",
    "- The object is None"
   ]
  },
  {
   "cell_type": "code",
   "execution_count": 32,
   "metadata": {},
   "outputs": [
    {
     "data": {
      "text/html": [
       "<div>\n",
       "<style scoped>\n",
       "    .dataframe tbody tr th:only-of-type {\n",
       "        vertical-align: middle;\n",
       "    }\n",
       "\n",
       "    .dataframe tbody tr th {\n",
       "        vertical-align: top;\n",
       "    }\n",
       "\n",
       "    .dataframe thead th {\n",
       "        text-align: right;\n",
       "    }\n",
       "</style>\n",
       "<table border=\"1\" class=\"dataframe\">\n",
       "  <thead>\n",
       "    <tr style=\"text-align: right;\">\n",
       "      <th></th>\n",
       "      <th>y</th>\n",
       "      <th>x</th>\n",
       "    </tr>\n",
       "  </thead>\n",
       "  <tbody>\n",
       "    <tr>\n",
       "      <th>0</th>\n",
       "      <td>True</td>\n",
       "      <td>2018-01-01</td>\n",
       "    </tr>\n",
       "    <tr>\n",
       "      <th>1</th>\n",
       "      <td>True</td>\n",
       "      <td>2018-01-02</td>\n",
       "    </tr>\n",
       "    <tr>\n",
       "      <th>2</th>\n",
       "      <td>True</td>\n",
       "      <td>2018-01-03</td>\n",
       "    </tr>\n",
       "    <tr>\n",
       "      <th>3</th>\n",
       "      <td>True</td>\n",
       "      <td>2018-01-04</td>\n",
       "    </tr>\n",
       "    <tr>\n",
       "      <th>4</th>\n",
       "      <td>True</td>\n",
       "      <td>2018-01-05</td>\n",
       "    </tr>\n",
       "    <tr>\n",
       "      <th>5</th>\n",
       "      <td>False</td>\n",
       "      <td>2018-01-06</td>\n",
       "    </tr>\n",
       "    <tr>\n",
       "      <th>6</th>\n",
       "      <td>False</td>\n",
       "      <td>2018-01-07</td>\n",
       "    </tr>\n",
       "    <tr>\n",
       "      <th>7</th>\n",
       "      <td>True</td>\n",
       "      <td>2018-01-08</td>\n",
       "    </tr>\n",
       "  </tbody>\n",
       "</table>\n",
       "</div>"
      ],
      "text/plain": [
       "       y          x\n",
       "0   True 2018-01-01\n",
       "1   True 2018-01-02\n",
       "2   True 2018-01-03\n",
       "3   True 2018-01-04\n",
       "4   True 2018-01-05\n",
       "5  False 2018-01-06\n",
       "6  False 2018-01-07\n",
       "7   True 2018-01-08"
      ]
     },
     "execution_count": 32,
     "metadata": {},
     "output_type": "execute_result"
    }
   ],
   "source": [
    "x = pd.Series(pd.date_range('2018-01-01', '2018-01-08'))\n",
    "y = x.apply(isBusinessDay)\n",
    "pd.DataFrame({'y':y, 'x':x})"
   ]
  },
  {
   "cell_type": "markdown",
   "metadata": {},
   "source": [
    "Write a Pandas program to convert unix/epoch time to a regular time stamp in UTC. Also convert the said timestamp in to a given time zone\n",
    "\n",
    "Note : \n",
    "**UTC** = Coordinated Universal Time or UTC is the primary time standard by which the world regulates clocks and time. It is within about 1 second of mean solar time at 0° longitude, and is not adjusted for daylight saving time. It is effectively a successor to Greenwich Mean Time"
   ]
  },
  {
   "cell_type": "code",
   "execution_count": 33,
   "metadata": {},
   "outputs": [
    {
     "data": {
      "text/plain": [
       "DatetimeIndex(['2004-09-16 23:59:58.750000',        '2004-09-16 23:59:59',\n",
       "               '2004-09-16 23:59:59.250000'],\n",
       "              dtype='datetime64[ns]', freq=None)"
      ]
     },
     "execution_count": 33,
     "metadata": {},
     "output_type": "execute_result"
    }
   ],
   "source": [
    "#unix -> datetime\n",
    "unix_times = ['1095379198.75', '1095379199.00', '1095379199.25']\n",
    "pd.to_datetime(unix_times, unit='s')"
   ]
  },
  {
   "cell_type": "code",
   "execution_count": 34,
   "metadata": {},
   "outputs": [
    {
     "name": "stdout",
     "output_type": "stream",
     "text": [
      "Today 2021-03-11 17:41:09.332497\n",
      "\n",
      "Convert the said timestamp in to US/Pacific:\n",
      "2021-03-11 09:41:09.332497-08:00\n",
      "\n",
      "Convert the said timestamp in to Europe/Berlin:\n",
      "2021-03-11 18:41:09.332497+01:00\n"
     ]
    }
   ],
   "source": [
    "# By default, time series objects of pandas do not have an assigned time zone.\n",
    "\n",
    "time_stamp = pd.to_datetime('today')\n",
    "print('Today', time_stamp)\n",
    "print(\"\\nConvert the said timestamp in to US/Pacific:\")\n",
    "print(time_stamp.tz_localize('UTC').tz_convert('US/Pacific'))\n",
    "print(\"\\nConvert the said timestamp in to Europe/Berlin:\")\n",
    "print(time_stamp.tz_localize('UTC').tz_convert('Europe/Berlin'))"
   ]
  },
  {
   "cell_type": "markdown",
   "metadata": {},
   "source": [
    " Write a Pandas program to subtract two timestamps of same time zone or different time zone"
   ]
  },
  {
   "cell_type": "code",
   "execution_count": 35,
   "metadata": {},
   "outputs": [
    {
     "name": "stdout",
     "output_type": "stream",
     "text": [
      "0 days 11:00:00\n"
     ]
    }
   ],
   "source": [
    "ts1 = pd.Timestamp('2012-01-10 12:00:22', tz= 'Europe/Berlin')\n",
    "ts2 = pd.Timestamp('2012-01-10 01:00:22', tz= 'Europe/Berlin')\n",
    "print(ts1 - ts2)"
   ]
  },
  {
   "cell_type": "code",
   "execution_count": 36,
   "metadata": {},
   "outputs": [
    {
     "name": "stdout",
     "output_type": "stream",
     "text": [
      "0 days 11:00:00\n"
     ]
    }
   ],
   "source": [
    "#different timezone\n",
    "ts1 = pd.Timestamp('2012-01-10 12:00:22', tz= 'Europe/Berlin')\n",
    "ts2 = pd.Timestamp('2012-01-10 01:00:22', tz= 'US/Pacific')\n",
    "\n",
    "#let's remove the timezones\n",
    "print(ts1.tz_localize(None) - ts2.tz_localize(None))"
   ]
  },
  {
   "cell_type": "markdown",
   "metadata": {},
   "source": [
    "Write a Pandas program to calculate all Thursdays between two given days."
   ]
  },
  {
   "cell_type": "code",
   "execution_count": 37,
   "metadata": {},
   "outputs": [],
   "source": [
    "import numpy as np \n",
    "\n",
    "def ThursdayCount(start, end):\n",
    "    #Note that Timedelta objects have read-only instance attributes .days, .seconds, and .microseconds.\n",
    "    period = (end - start).days\n",
    "    dr = pd.Series(pd.date_range(start, periods=30, freq='D'))\n",
    "    print(dr.dt.day_name())\n",
    "    print('Total count of Thursdays', np.sum(dr.dt.day_name() == 'Thursday'))"
   ]
  },
  {
   "cell_type": "code",
   "execution_count": 38,
   "metadata": {},
   "outputs": [],
   "source": [
    "day1 = pd.Timestamp('2021-01-01')\n",
    "day2 = pd.Timestamp('2021-01-31')"
   ]
  },
  {
   "cell_type": "code",
   "execution_count": 39,
   "metadata": {},
   "outputs": [
    {
     "data": {
      "text/plain": [
       "-30"
      ]
     },
     "execution_count": 39,
     "metadata": {},
     "output_type": "execute_result"
    }
   ],
   "source": [
    "(day1 - day2).days"
   ]
  },
  {
   "cell_type": "markdown",
   "metadata": {},
   "source": [
    "### Filter dates !!"
   ]
  },
  {
   "cell_type": "code",
   "execution_count": 3,
   "metadata": {},
   "outputs": [],
   "source": [
    "s = pd.Series(pd.date_range('2021', periods=12, freq='M'))\n",
    "\n",
    "df = pd.concat([s,\n",
    "           s.dt.month_name(),\n",
    "           s.dt.year,\n",
    "           s.dt.to_period(freq='Q'),\n",
    "           s.apply(lambda s: str(s)[:2] + 's')\n",
    "          ], \n",
    "          axis=1, keys=['date', 'month', 'year', 'Q', 'decade'])"
   ]
  },
  {
   "cell_type": "code",
   "execution_count": 4,
   "metadata": {},
   "outputs": [
    {
     "data": {
      "text/html": [
       "<div>\n",
       "<style scoped>\n",
       "    .dataframe tbody tr th:only-of-type {\n",
       "        vertical-align: middle;\n",
       "    }\n",
       "\n",
       "    .dataframe tbody tr th {\n",
       "        vertical-align: top;\n",
       "    }\n",
       "\n",
       "    .dataframe thead th {\n",
       "        text-align: right;\n",
       "    }\n",
       "</style>\n",
       "<table border=\"1\" class=\"dataframe\">\n",
       "  <thead>\n",
       "    <tr style=\"text-align: right;\">\n",
       "      <th></th>\n",
       "      <th>date</th>\n",
       "      <th>month</th>\n",
       "      <th>year</th>\n",
       "      <th>Q</th>\n",
       "      <th>decade</th>\n",
       "    </tr>\n",
       "  </thead>\n",
       "  <tbody>\n",
       "    <tr>\n",
       "      <th>0</th>\n",
       "      <td>2021-01-31</td>\n",
       "      <td>January</td>\n",
       "      <td>2021</td>\n",
       "      <td>2021Q1</td>\n",
       "      <td>20s</td>\n",
       "    </tr>\n",
       "    <tr>\n",
       "      <th>1</th>\n",
       "      <td>2021-02-28</td>\n",
       "      <td>February</td>\n",
       "      <td>2021</td>\n",
       "      <td>2021Q1</td>\n",
       "      <td>20s</td>\n",
       "    </tr>\n",
       "    <tr>\n",
       "      <th>2</th>\n",
       "      <td>2021-03-31</td>\n",
       "      <td>March</td>\n",
       "      <td>2021</td>\n",
       "      <td>2021Q1</td>\n",
       "      <td>20s</td>\n",
       "    </tr>\n",
       "    <tr>\n",
       "      <th>3</th>\n",
       "      <td>2021-04-30</td>\n",
       "      <td>April</td>\n",
       "      <td>2021</td>\n",
       "      <td>2021Q2</td>\n",
       "      <td>20s</td>\n",
       "    </tr>\n",
       "    <tr>\n",
       "      <th>4</th>\n",
       "      <td>2021-05-31</td>\n",
       "      <td>May</td>\n",
       "      <td>2021</td>\n",
       "      <td>2021Q2</td>\n",
       "      <td>20s</td>\n",
       "    </tr>\n",
       "    <tr>\n",
       "      <th>5</th>\n",
       "      <td>2021-06-30</td>\n",
       "      <td>June</td>\n",
       "      <td>2021</td>\n",
       "      <td>2021Q2</td>\n",
       "      <td>20s</td>\n",
       "    </tr>\n",
       "    <tr>\n",
       "      <th>6</th>\n",
       "      <td>2021-07-31</td>\n",
       "      <td>July</td>\n",
       "      <td>2021</td>\n",
       "      <td>2021Q3</td>\n",
       "      <td>20s</td>\n",
       "    </tr>\n",
       "    <tr>\n",
       "      <th>7</th>\n",
       "      <td>2021-08-31</td>\n",
       "      <td>August</td>\n",
       "      <td>2021</td>\n",
       "      <td>2021Q3</td>\n",
       "      <td>20s</td>\n",
       "    </tr>\n",
       "    <tr>\n",
       "      <th>8</th>\n",
       "      <td>2021-09-30</td>\n",
       "      <td>September</td>\n",
       "      <td>2021</td>\n",
       "      <td>2021Q3</td>\n",
       "      <td>20s</td>\n",
       "    </tr>\n",
       "    <tr>\n",
       "      <th>9</th>\n",
       "      <td>2021-10-31</td>\n",
       "      <td>October</td>\n",
       "      <td>2021</td>\n",
       "      <td>2021Q4</td>\n",
       "      <td>20s</td>\n",
       "    </tr>\n",
       "    <tr>\n",
       "      <th>10</th>\n",
       "      <td>2021-11-30</td>\n",
       "      <td>November</td>\n",
       "      <td>2021</td>\n",
       "      <td>2021Q4</td>\n",
       "      <td>20s</td>\n",
       "    </tr>\n",
       "    <tr>\n",
       "      <th>11</th>\n",
       "      <td>2021-12-31</td>\n",
       "      <td>December</td>\n",
       "      <td>2021</td>\n",
       "      <td>2021Q4</td>\n",
       "      <td>20s</td>\n",
       "    </tr>\n",
       "  </tbody>\n",
       "</table>\n",
       "</div>"
      ],
      "text/plain": [
       "         date      month  year       Q decade\n",
       "0  2021-01-31    January  2021  2021Q1    20s\n",
       "1  2021-02-28   February  2021  2021Q1    20s\n",
       "2  2021-03-31      March  2021  2021Q1    20s\n",
       "3  2021-04-30      April  2021  2021Q2    20s\n",
       "4  2021-05-31        May  2021  2021Q2    20s\n",
       "5  2021-06-30       June  2021  2021Q2    20s\n",
       "6  2021-07-31       July  2021  2021Q3    20s\n",
       "7  2021-08-31     August  2021  2021Q3    20s\n",
       "8  2021-09-30  September  2021  2021Q3    20s\n",
       "9  2021-10-31    October  2021  2021Q4    20s\n",
       "10 2021-11-30   November  2021  2021Q4    20s\n",
       "11 2021-12-31   December  2021  2021Q4    20s"
      ]
     },
     "execution_count": 4,
     "metadata": {},
     "output_type": "execute_result"
    }
   ],
   "source": [
    "df"
   ]
  },
  {
   "cell_type": "code",
   "execution_count": 8,
   "metadata": {},
   "outputs": [],
   "source": [
    "#1ST WAY: with the indexes\n",
    "\n",
    "tmp = df.set_index(df['date'])\n",
    "tmp = tmp.drop('date', axis=1)"
   ]
  },
  {
   "cell_type": "code",
   "execution_count": 6,
   "metadata": {},
   "outputs": [
    {
     "data": {
      "text/html": [
       "<div>\n",
       "<style scoped>\n",
       "    .dataframe tbody tr th:only-of-type {\n",
       "        vertical-align: middle;\n",
       "    }\n",
       "\n",
       "    .dataframe tbody tr th {\n",
       "        vertical-align: top;\n",
       "    }\n",
       "\n",
       "    .dataframe thead th {\n",
       "        text-align: right;\n",
       "    }\n",
       "</style>\n",
       "<table border=\"1\" class=\"dataframe\">\n",
       "  <thead>\n",
       "    <tr style=\"text-align: right;\">\n",
       "      <th></th>\n",
       "      <th>month</th>\n",
       "      <th>year</th>\n",
       "      <th>Q</th>\n",
       "      <th>decade</th>\n",
       "    </tr>\n",
       "    <tr>\n",
       "      <th>date</th>\n",
       "      <th></th>\n",
       "      <th></th>\n",
       "      <th></th>\n",
       "      <th></th>\n",
       "    </tr>\n",
       "  </thead>\n",
       "  <tbody>\n",
       "    <tr>\n",
       "      <th>2021-01-31</th>\n",
       "      <td>January</td>\n",
       "      <td>2021</td>\n",
       "      <td>2021Q1</td>\n",
       "      <td>20s</td>\n",
       "    </tr>\n",
       "    <tr>\n",
       "      <th>2021-02-28</th>\n",
       "      <td>February</td>\n",
       "      <td>2021</td>\n",
       "      <td>2021Q1</td>\n",
       "      <td>20s</td>\n",
       "    </tr>\n",
       "    <tr>\n",
       "      <th>2021-03-31</th>\n",
       "      <td>March</td>\n",
       "      <td>2021</td>\n",
       "      <td>2021Q1</td>\n",
       "      <td>20s</td>\n",
       "    </tr>\n",
       "  </tbody>\n",
       "</table>\n",
       "</div>"
      ],
      "text/plain": [
       "               month  year       Q decade\n",
       "date                                     \n",
       "2021-01-31   January  2021  2021Q1    20s\n",
       "2021-02-28  February  2021  2021Q1    20s\n",
       "2021-03-31     March  2021  2021Q1    20s"
      ]
     },
     "execution_count": 6,
     "metadata": {},
     "output_type": "execute_result"
    }
   ],
   "source": [
    "tmp.loc['2021-01-31': '2021-03-31']"
   ]
  },
  {
   "cell_type": "code",
   "execution_count": 9,
   "metadata": {},
   "outputs": [
    {
     "data": {
      "text/html": [
       "<div>\n",
       "<style scoped>\n",
       "    .dataframe tbody tr th:only-of-type {\n",
       "        vertical-align: middle;\n",
       "    }\n",
       "\n",
       "    .dataframe tbody tr th {\n",
       "        vertical-align: top;\n",
       "    }\n",
       "\n",
       "    .dataframe thead th {\n",
       "        text-align: right;\n",
       "    }\n",
       "</style>\n",
       "<table border=\"1\" class=\"dataframe\">\n",
       "  <thead>\n",
       "    <tr style=\"text-align: right;\">\n",
       "      <th></th>\n",
       "      <th>date</th>\n",
       "      <th>month</th>\n",
       "      <th>year</th>\n",
       "      <th>Q</th>\n",
       "      <th>decade</th>\n",
       "    </tr>\n",
       "  </thead>\n",
       "  <tbody>\n",
       "    <tr>\n",
       "      <th>0</th>\n",
       "      <td>2021-01-31</td>\n",
       "      <td>January</td>\n",
       "      <td>2021</td>\n",
       "      <td>2021Q1</td>\n",
       "      <td>20s</td>\n",
       "    </tr>\n",
       "    <tr>\n",
       "      <th>1</th>\n",
       "      <td>2021-02-28</td>\n",
       "      <td>February</td>\n",
       "      <td>2021</td>\n",
       "      <td>2021Q1</td>\n",
       "      <td>20s</td>\n",
       "    </tr>\n",
       "    <tr>\n",
       "      <th>2</th>\n",
       "      <td>2021-03-31</td>\n",
       "      <td>March</td>\n",
       "      <td>2021</td>\n",
       "      <td>2021Q1</td>\n",
       "      <td>20s</td>\n",
       "    </tr>\n",
       "    <tr>\n",
       "      <th>3</th>\n",
       "      <td>2021-04-30</td>\n",
       "      <td>April</td>\n",
       "      <td>2021</td>\n",
       "      <td>2021Q2</td>\n",
       "      <td>20s</td>\n",
       "    </tr>\n",
       "    <tr>\n",
       "      <th>4</th>\n",
       "      <td>2021-05-31</td>\n",
       "      <td>May</td>\n",
       "      <td>2021</td>\n",
       "      <td>2021Q2</td>\n",
       "      <td>20s</td>\n",
       "    </tr>\n",
       "    <tr>\n",
       "      <th>5</th>\n",
       "      <td>2021-06-30</td>\n",
       "      <td>June</td>\n",
       "      <td>2021</td>\n",
       "      <td>2021Q2</td>\n",
       "      <td>20s</td>\n",
       "    </tr>\n",
       "    <tr>\n",
       "      <th>6</th>\n",
       "      <td>2021-07-31</td>\n",
       "      <td>July</td>\n",
       "      <td>2021</td>\n",
       "      <td>2021Q3</td>\n",
       "      <td>20s</td>\n",
       "    </tr>\n",
       "  </tbody>\n",
       "</table>\n",
       "</div>"
      ],
      "text/plain": [
       "        date     month  year       Q decade\n",
       "0 2021-01-31   January  2021  2021Q1    20s\n",
       "1 2021-02-28  February  2021  2021Q1    20s\n",
       "2 2021-03-31     March  2021  2021Q1    20s\n",
       "3 2021-04-30     April  2021  2021Q2    20s\n",
       "4 2021-05-31       May  2021  2021Q2    20s\n",
       "5 2021-06-30      June  2021  2021Q2    20s\n",
       "6 2021-07-31      July  2021  2021Q3    20s"
      ]
     },
     "execution_count": 9,
     "metadata": {},
     "output_type": "execute_result"
    }
   ],
   "source": [
    "#2nd WAY: without the indexes\n",
    "\n",
    "df.loc[(df.date >= '2021-01-31') & (df.date <= '2021-07-31')]"
   ]
  },
  {
   "cell_type": "code",
   "execution_count": null,
   "metadata": {},
   "outputs": [],
   "source": []
  }
 ],
 "metadata": {
  "kernelspec": {
   "display_name": "Python 3",
   "language": "python",
   "name": "python3"
  },
  "language_info": {
   "codemirror_mode": {
    "name": "ipython",
    "version": 3
   },
   "file_extension": ".py",
   "mimetype": "text/x-python",
   "name": "python",
   "nbconvert_exporter": "python",
   "pygments_lexer": "ipython3",
   "version": "3.7.7"
  }
 },
 "nbformat": 4,
 "nbformat_minor": 4
}
